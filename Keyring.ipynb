{
 "cells": [
  {
   "cell_type": "code",
   "execution_count": null,
   "id": "c1b614f1",
   "metadata": {},
   "outputs": [],
   "source": [
    "import keyring\n",
    "\n",
    "keyring.set_password('Worker','ISU_HRDW_Worker_RaaS','Workday%2021')\n",
    "\n",
    "keyring.get_password('Worker','ISU_HRDW_Worker_RaaS')\n"
   ]
  }
 ],
 "metadata": {
  "kernelspec": {
   "display_name": "Python 3",
   "language": "python",
   "name": "python3"
  },
  "language_info": {
   "codemirror_mode": {
    "name": "ipython",
    "version": 3
   },
   "file_extension": ".py",
   "mimetype": "text/x-python",
   "name": "python",
   "nbconvert_exporter": "python",
   "pygments_lexer": "ipython3",
   "version": "3.8.8"
  }
 },
 "nbformat": 4,
 "nbformat_minor": 5
}
